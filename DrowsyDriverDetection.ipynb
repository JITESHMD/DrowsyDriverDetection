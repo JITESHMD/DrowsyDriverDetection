{
 "cells": [
  {
   "cell_type": "code",
   "execution_count": 2,
   "id": "6521379c-a1db-4e36-91b2-86fdd14b2f7e",
   "metadata": {},
   "outputs": [
    {
     "name": "stderr",
     "output_type": "stream",
     "text": [
      "Intel(R) Extension for Scikit-learn* enabled (https://github.com/intel/scikit-learn-intelex)\n"
     ]
    }
   ],
   "source": [
    "import pandas as pd\n",
    "import numpy as np\n",
    "from sklearn.metrics import accuracy_score,confusion_matrix"
   ]
  },
  {
   "cell_type": "code",
   "execution_count": 3,
   "id": "2b332b29-9135-42ec-b472-0e61e1c34a6c",
   "metadata": {},
   "outputs": [
    {
     "name": "stderr",
     "output_type": "stream",
     "text": [
      "2023-04-28 07:05:56.917940: I tensorflow/tsl/cuda/cudart_stub.cc:28] Could not find cuda drivers on your machine, GPU will not be used.\n",
      "2023-04-28 07:05:58.710092: I tensorflow/tsl/cuda/cudart_stub.cc:28] Could not find cuda drivers on your machine, GPU will not be used.\n",
      "2023-04-28 07:05:58.714042: I tensorflow/core/platform/cpu_feature_guard.cc:182] This TensorFlow binary is optimized to use available CPU instructions in performance-critical operations.\n",
      "To enable the following instructions: AVX2 AVX512F FMA, in other operations, rebuild TensorFlow with the appropriate compiler flags.\n",
      "2023-04-28 07:06:12.565973: W tensorflow/compiler/tf2tensorrt/utils/py_utils.cc:38] TF-TRT Warning: Could not find TensorRT\n"
     ]
    }
   ],
   "source": [
    "import tensorflow as tf\n",
    "from tensorflow.keras.layers import Dense, GlobalAveragePooling2D\n",
    "from tensorflow.keras.models import Model\n",
    "from tensorflow.keras.optimizers import Adam\n",
    "from tensorflow.keras.preprocessing.image import ImageDataGenerator\n",
    "from tensorflow.keras.preprocessing import image"
   ]
  },
  {
   "cell_type": "code",
   "execution_count": 4,
   "id": "9b607450-2f33-4cec-8056-862cf484bb3e",
   "metadata": {},
   "outputs": [
    {
     "name": "stdout",
     "output_type": "stream",
     "text": [
      "Found 1056 validated image filenames belonging to 2 classes.\n"
     ]
    }
   ],
   "source": [
    "# Set up the data generators\n",
    "train_datagen = ImageDataGenerator(\n",
    "    rescale=1./255,\n",
    "    shear_range=0.2,\n",
    "    zoom_range=0.2,\n",
    "    horizontal_flip=True)\n",
    "\n",
    "train_labels = pd.read_csv('train_img/_annotations.csv')\n",
    "# Convert the column to strings\n",
    "train_labels['class'] = train_labels['class'].astype(str)\n",
    "train_generator = train_datagen.flow_from_dataframe(\n",
    "    train_labels,\n",
    "    directory='train_img',\n",
    "    x_col='filename',\n",
    "    y_col='class',\n",
    "    target_size=(1056, 1056),\n",
    "    batch_size=32,\n",
    "    class_mode='binary')"
   ]
  },
  {
   "cell_type": "code",
   "execution_count": 7,
   "id": "e91633bc-760f-45fb-8bec-e9fad0c8db08",
   "metadata": {},
   "outputs": [
    {
     "name": "stderr",
     "output_type": "stream",
     "text": [
      "2023-04-28 07:07:33.451113: I tensorflow/core/common_runtime/executor.cc:1197] [/device:CPU:0] (DEBUG INFO) Executor start aborting (this does not indicate an error and you can ignore this message): INVALID_ARGUMENT: You must feed a value for placeholder tensor 'Placeholder/_0' with dtype int32\n",
      "\t [[{{node Placeholder/_0}}]]\n"
     ]
    },
    {
     "name": "stdout",
     "output_type": "stream",
     "text": [
      "Epoch 1/10\n",
      "33/33 [==============================] - 679s 20s/step - loss: 0.7455 - accuracy: 0.5341\n",
      "Epoch 2/10\n",
      "33/33 [==============================] - 675s 20s/step - loss: 0.7004 - accuracy: 0.5312\n",
      "Epoch 3/10\n",
      "33/33 [==============================] - 677s 20s/step - loss: 0.7285 - accuracy: 0.5312\n",
      "Epoch 5/10\n",
      "33/33 [==============================] - 676s 20s/step - loss: 0.6960 - accuracy: 0.5502\n",
      "Epoch 7/10\n",
      "33/33 [==============================] - 677s 20s/step - loss: 0.6925 - accuracy: 0.5587\n",
      "Epoch 8/10\n",
      "33/33 [==============================] - 695s 21s/step - loss: 0.7217 - accuracy: 0.5104\n",
      "Epoch 10/10\n",
      "33/33 [==============================] - 696s 21s/step - loss: 0.7008 - accuracy: 0.5653\n"
     ]
    },
    {
     "data": {
      "text/plain": [
       "<keras.callbacks.History at 0x7fa2c00284c0>"
      ]
     },
     "execution_count": 7,
     "metadata": {},
     "output_type": "execute_result"
    }
   ],
   "source": [
    "# Load the pre-trained ResNet-50 model and freeze the base layers\n",
    "base_model = tf.keras.applications.ResNet50(\n",
    "    include_top=False, weights='imagenet', input_shape=(224, 224, 3))\n",
    "\n",
    "for layer in base_model.layers:\n",
    "    layer.trainable = False\n",
    "\n",
    "# Add new fully connected layers on top of the base model\n",
    "x = base_model.output\n",
    "x = GlobalAveragePooling2D()(x)\n",
    "x = Dense(1024, activation='relu')(x)\n",
    "predictions = Dense(1, activation='sigmoid')(x)\n",
    "\n",
    "# Compile the model with binary cross-entropy loss and Adam optimizer\n",
    "model = Model(inputs=base_model.input, outputs=predictions)\n",
    "\n",
    "#freeze Layers\n",
    "for layer in base_model.layers:\n",
    "    layer.trainable = False\n",
    "\n",
    "model.compile(optimizer=Adam(learning_rate=0.0001), loss='binary_crossentropy',\n",
    "              metrics=['accuracy'])\n",
    "\n",
    "# Train the model\n",
    "model.fit(\n",
    "    train_generator,\n",
    "    steps_per_epoch=train_generator.samples // train_generator.batch_size,\n",
    "    epochs=10)"
   ]
  },
  {
   "cell_type": "code",
   "execution_count": 8,
   "id": "6c1004a4-6b12-45b9-a8ef-bbd0c05da289",
   "metadata": {},
   "outputs": [],
   "source": [
    "# Load the test CSV file with filenames\n",
    "t_test_df = pd.read_csv(\"test_img/_annotations.csv\")"
   ]
  },
  {
   "cell_type": "code",
   "execution_count": 9,
   "id": "33bead2c-cb6c-4a11-bbce-2c22c43b8be9",
   "metadata": {},
   "outputs": [
    {
     "name": "stdout",
     "output_type": "stream",
     "text": [
      "Found 71 validated image filenames.\n"
     ]
    },
    {
     "name": "stderr",
     "output_type": "stream",
     "text": [
      "/home/u190372/tmp/ipykernel_4077351/1759325062.py:14: UserWarning: `Model.predict_generator` is deprecated and will be removed in a future version. Please use `Model.predict`, which supports generators.\n",
      "  preds = model.predict_generator(t_test_generator, steps=None)\n",
      "2023-04-28 09:03:25.729142: I tensorflow/core/common_runtime/executor.cc:1197] [/device:CPU:0] (DEBUG INFO) Executor start aborting (this does not indicate an error and you can ignore this message): INVALID_ARGUMENT: You must feed a value for placeholder tensor 'Placeholder/_0' with dtype int32\n",
      "\t [[{{node Placeholder/_0}}]]\n"
     ]
    }
   ],
   "source": [
    "# Create a generator for the test images\n",
    "t_test_datagen = ImageDataGenerator(rescale=1./255)\n",
    "t_test_generator = t_test_datagen.flow_from_dataframe(\n",
    "    t_test_df,\n",
    "    directory=\"test_img\",\n",
    "    x_col='filename',\n",
    "    y_col=None,\n",
    "    target_size=(224, 224),\n",
    "    batch_size=32,\n",
    "    class_mode=None,\n",
    "    shuffle=False)\n",
    "\n",
    "# Use the trained model to make predictions on the test data\n",
    "preds = model.predict_generator(t_test_generator, steps=None)\n",
    "# Remove any missing filenames from the test CSV file\n",
    "missing_filenames = set(t_test_generator.filenames) - set(t_test_df['filename'])\n",
    "if missing_filenames:\n",
    "    print(f'Removing {len(missing_filenames)} missing filenames from the test CSV file.')\n",
    "    t_test_df = t_test_df[~t_test_df['filename'].isin(missing_filenames)]"
   ]
  },
  {
   "cell_type": "code",
   "execution_count": 10,
   "id": "dce70666-79f4-4a41-ae20-cc893c053179",
   "metadata": {},
   "outputs": [],
   "source": [
    "li = []\n",
    "for i in preds.ravel():\n",
    "    if i>0.5:\n",
    "        li.append(1)\n",
    "    else:\n",
    "        li.append(0)\n",
    "     \n",
    "# Create a DataFrame with the filenames and predictions\n",
    "df = pd.DataFrame({'filename': t_test_generator.filenames[:len(preds)], 'class': li})\n",
    "\n",
    "test_inst_df=pd.merge(df, t_test_df, on='filename', how='inner')"
   ]
  },
  {
   "cell_type": "code",
   "execution_count": null,
   "id": "75d84632-444d-419c-810f-fb79170da022",
   "metadata": {},
   "outputs": [],
   "source": [
    "confusion_matrix(df[\"class\"],t_test_df['class'])  "
   ]
  },
  {
   "cell_type": "code",
   "execution_count": null,
   "id": "63fddae5-48ff-401e-8d14-c31a12e2bfc1",
   "metadata": {},
   "outputs": [],
   "source": [
    "# Save the model\n",
    "model.save('models/resnet.h5')"
   ]
  },
  {
   "cell_type": "code",
   "execution_count": null,
   "id": "760ea33b-ee1a-4799-af47-90cb200a1704",
   "metadata": {},
   "outputs": [],
   "source": []
  }
 ],
 "metadata": {
  "kernelspec": {
   "display_name": "Python 3 (Intel® oneAPI 2023.0)",
   "language": "python",
   "name": "c009-intel_distribution_of_python_3_oneapi-beta05-python"
  },
  "language_info": {
   "codemirror_mode": {
    "name": "ipython",
    "version": 3
   },
   "file_extension": ".py",
   "mimetype": "text/x-python",
   "name": "python",
   "nbconvert_exporter": "python",
   "pygments_lexer": "ipython3",
   "version": "3.9.15"
  }
 },
 "nbformat": 4,
 "nbformat_minor": 5
}
